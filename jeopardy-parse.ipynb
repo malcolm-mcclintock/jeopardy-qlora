{
 "cells": [
  {
   "cell_type": "code",
   "execution_count": 2,
   "id": "6fbedf55-396e-4d9a-9fc5-f0acc2cde064",
   "metadata": {},
   "outputs": [
    {
     "name": "stderr",
     "output_type": "stream",
     "text": [
      "/opt/conda/lib/python3.11/site-packages/tqdm/auto.py:21: TqdmWarning: IProgress not found. Please update jupyter and ipywidgets. See https://ipywidgets.readthedocs.io/en/stable/user_install.html\n",
      "  from .autonotebook import tqdm as notebook_tqdm\n"
     ]
    }
   ],
   "source": [
    "import re\n",
    "import json\n",
    "from nltk import corpus as corpiss\n",
    "from transformers import AutoTokenizer\n"
   ]
  },
  {
   "cell_type": "code",
   "execution_count": 18,
   "id": "60efca11-d6ff-410d-877f-fa135eaea1b3",
   "metadata": {},
   "outputs": [
    {
     "data": {
      "text/plain": [
       "\"In 2003 this airline agreed to buy KLM, creating Europe's largest airline\""
      ]
     },
     "execution_count": 18,
     "metadata": {},
     "output_type": "execute_result"
    }
   ],
   "source": [
    "f = open('./jeopardy.json')\n",
    "corpus = json.load(f)\n",
    "out = []\n",
    "for i,item in enumerate(corpus):\n",
    "    # Remove any items with quesitons with links (e.g. <a href=\")\n",
    "    if bool(re.search('href',item['question'])):\n",
    "        continue\n",
    "    # Set values to ints. Final jeopardy questions have a value of \"None\"\n",
    "    if item['value'] is not None:\n",
    "        item['value'] = int(item['value'][1:].replace(',',''))    \n",
    "    item['question'] = item['question'][1:-1]\n",
    "    del item['air_date']\n",
    "    del item['round']\n",
    "    del item['show_number']\n",
    "    out.append(item)\n",
    "corpus = out\n",
    "# print(corpus[0])\n",
    "# [i['question'] for i in corpus[:100]]\n",
    "corpus[38]['question']"
   ]
  },
  {
   "cell_type": "code",
   "execution_count": 20,
   "id": "705d65f6-f7c8-41b7-9d35-3a84cdcc6493",
   "metadata": {},
   "outputs": [],
   "source": [
    "with open('jeopardy_parsed.json', 'w', encoding='utf-8') as f:\n",
    "    json.dump(corpus, f, ensure_ascii=False, indent=4)"
   ]
  },
  {
   "cell_type": "code",
   "execution_count": null,
   "id": "4ad1a205-62dd-46fb-9495-8db4a20ab47c",
   "metadata": {},
   "outputs": [],
   "source": []
  }
 ],
 "metadata": {
  "kernelspec": {
   "display_name": "Python 3 (ipykernel)",
   "language": "python",
   "name": "python3"
  },
  "language_info": {
   "codemirror_mode": {
    "name": "ipython",
    "version": 3
   },
   "file_extension": ".py",
   "mimetype": "text/x-python",
   "name": "python",
   "nbconvert_exporter": "python",
   "pygments_lexer": "ipython3",
   "version": "3.11.4"
  }
 },
 "nbformat": 4,
 "nbformat_minor": 5
}
