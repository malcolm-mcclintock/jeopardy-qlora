{
 "cells": [
  {
   "cell_type": "code",
   "execution_count": null,
   "id": "7939406d-e188-450a-84d0-4e9a19fafd9d",
   "metadata": {},
   "outputs": [],
   "source": [
    "# mkdir repositories\n",
    "# cd repositories\n",
    "# git clone https://github.com/qwopqwop200/GPTQ-for-LLaMa.git -b cuda\n",
    "\n",
    "# cd GPTQ-for-LLaMa\n",
    "# pip install -r requirements.txt\n",
    "# python setup_cuda.py install"
   ]
  },
  {
   "cell_type": "code",
   "execution_count": null,
   "id": "f551ac9f-8ba9-4f3c-ad27-1deed2165df9",
   "metadata": {},
   "outputs": [],
   "source": []
  }
 ],
 "metadata": {
  "kernelspec": {
   "display_name": "Python 3 (ipykernel)",
   "language": "python",
   "name": "python3"
  },
  "language_info": {
   "codemirror_mode": {
    "name": "ipython",
    "version": 3
   },
   "file_extension": ".py",
   "mimetype": "text/x-python",
   "name": "python",
   "nbconvert_exporter": "python",
   "pygments_lexer": "ipython3",
   "version": "3.11.4"
  }
 },
 "nbformat": 4,
 "nbformat_minor": 5
}
